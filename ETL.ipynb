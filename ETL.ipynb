{
 "cells": [
  {
   "cell_type": "code",
   "execution_count": 1,
   "id": "a3f18cd9",
   "metadata": {},
   "outputs": [],
   "source": [
    "import numpy as np\n",
    "import pandas as pd\n",
    "import json\n",
    "import sqlalchemy\n",
    "import datetime"
   ]
  },
  {
   "cell_type": "code",
   "execution_count": 2,
   "id": "cd73ea29",
   "metadata": {},
   "outputs": [],
   "source": [
    "with open(\"data/receipts.json\") as receipts_file:\n",
    "    receipts_raw = [json.loads(line) for line in receipts_file]\n",
    "with open(\"data/users.json\") as users_file:\n",
    "    users_raw = [json.loads(line) for line in users_file]\n",
    "with open(\"data/brands.json\") as brands_file:\n",
    "    brands_raw = [json.loads(line) for line in brands_file]"
   ]
  },
  {
   "cell_type": "code",
   "execution_count": null,
   "id": "7b7c5a30",
   "metadata": {},
   "outputs": [],
   "source": []
  }
 ],
 "metadata": {
  "kernelspec": {
   "display_name": "Python 3",
   "language": "python",
   "name": "python3"
  },
  "language_info": {
   "codemirror_mode": {
    "name": "ipython",
    "version": 3
   },
   "file_extension": ".py",
   "mimetype": "text/x-python",
   "name": "python",
   "nbconvert_exporter": "python",
   "pygments_lexer": "ipython3",
   "version": "3.8.10"
  }
 },
 "nbformat": 4,
 "nbformat_minor": 5
}
