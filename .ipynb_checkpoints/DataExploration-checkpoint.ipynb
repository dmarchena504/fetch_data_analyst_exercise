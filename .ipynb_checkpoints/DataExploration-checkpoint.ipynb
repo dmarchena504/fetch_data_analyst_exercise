{
 "cells": [
  {
   "cell_type": "code",
   "execution_count": 46,
   "id": "43e1677e",
   "metadata": {},
   "outputs": [],
   "source": [
    "import numpy as np\n",
    "import pandas as pd\n",
    "import json\n",
    "import datetime"
   ]
  },
  {
   "cell_type": "code",
   "execution_count": 38,
   "id": "560fd915",
   "metadata": {},
   "outputs": [],
   "source": [
    "with open(\"data/receipts.json\") as receipts_file:\n",
    "    receipts_raw = [json.loads(line) for line in receipts_file]\n",
    "with open(\"data/users.json\") as users_file:\n",
    "    users_raw = [json.loads(line) for line in users_file]\n",
    "with open(\"data/brands.json\") as brands_file:\n",
    "    brands_raw = [json.loads(line) for line in brands_file]"
   ]
  },
  {
   "cell_type": "markdown",
   "id": "061e4c76",
   "metadata": {},
   "source": [
    "### Initial exploration of Receipts Data schema"
   ]
  },
  {
   "cell_type": "code",
   "execution_count": 58,
   "id": "36243549",
   "metadata": {
    "scrolled": false
   },
   "outputs": [
    {
     "name": "stdout",
     "output_type": "stream",
     "text": [
      "{\n",
      "  \"_id\": {\n",
      "    \"$oid\": \"5ff1e1bb0a720f052300056b\"\n",
      "  },\n",
      "  \"bonusPointsEarned\": 150,\n",
      "  \"bonusPointsEarnedReason\": \"Receipt number 5 completed, bonus point schedule DEFAULT (5cefdcacf3693e0b50e83a36)\",\n",
      "  \"createDate\": {\n",
      "    \"$date\": 1609687483000\n",
      "  },\n",
      "  \"dateScanned\": {\n",
      "    \"$date\": 1609687483000\n",
      "  },\n",
      "  \"finishedDate\": {\n",
      "    \"$date\": 1609687483000\n",
      "  },\n",
      "  \"modifyDate\": {\n",
      "    \"$date\": 1609687488000\n",
      "  },\n",
      "  \"pointsAwardedDate\": {\n",
      "    \"$date\": 1609687483000\n",
      "  },\n",
      "  \"pointsEarned\": \"150.0\",\n",
      "  \"purchaseDate\": {\n",
      "    \"$date\": 1609601083000\n",
      "  },\n",
      "  \"purchasedItemCount\": 2,\n",
      "  \"rewardsReceiptItemList\": [\n",
      "    {\n",
      "      \"barcode\": \"4011\",\n",
      "      \"description\": \"ITEM NOT FOUND\",\n",
      "      \"finalPrice\": \"1\",\n",
      "      \"itemPrice\": \"1\",\n",
      "      \"partnerItemId\": \"1\",\n",
      "      \"quantityPurchased\": 1\n",
      "    },\n",
      "    {\n",
      "      \"barcode\": \"028400642255\",\n",
      "      \"description\": \"DORITOS TORTILLA CHIP SPICY SWEET CHILI REDUCED FAT BAG 1 OZ\",\n",
      "      \"finalPrice\": \"10.00\",\n",
      "      \"itemPrice\": \"10.00\",\n",
      "      \"needsFetchReview\": true,\n",
      "      \"needsFetchReviewReason\": \"USER_FLAGGED\",\n",
      "      \"partnerItemId\": \"2\",\n",
      "      \"pointsNotAwardedReason\": \"Action not allowed for user and CPG\",\n",
      "      \"pointsPayerId\": \"5332f5fbe4b03c9a25efd0ba\",\n",
      "      \"preventTargetGapPoints\": true,\n",
      "      \"quantityPurchased\": 1,\n",
      "      \"rewardsGroup\": \"DORITOS SPICY SWEET CHILI SINGLE SERVE\",\n",
      "      \"rewardsProductPartnerId\": \"5332f5fbe4b03c9a25efd0ba\",\n",
      "      \"userFlaggedBarcode\": \"028400642255\",\n",
      "      \"userFlaggedDescription\": \"DORITOS TORTILLA CHIP SPICY SWEET CHILI REDUCED FAT BAG 1 OZ\",\n",
      "      \"userFlaggedNewItem\": true,\n",
      "      \"userFlaggedPrice\": \"10.00\",\n",
      "      \"userFlaggedQuantity\": 1\n",
      "    }\n",
      "  ],\n",
      "  \"rewardsReceiptStatus\": \"FINISHED\",\n",
      "  \"totalSpent\": \"11.00\",\n",
      "  \"userId\": \"5ff1e194b6a9d73a3a9f1052\"\n",
      "}\n"
     ]
    }
   ],
   "source": [
    "print(json.dumps(receipts_raw[1],indent=2))"
   ]
  },
  {
   "cell_type": "markdown",
   "id": "b5ecaee6",
   "metadata": {},
   "source": [
    "#### Observations/questions about this example data point:\n",
    "\n",
    "* Value of $oid within the \"_id\" node identifies the receipt\n",
    "* Dates (createDate, dateScanned, finishedDate, and modifyDate appear to be in milliseconds since 1-1-1970, but this should be confirmed with the stakeholder:"
   ]
  },
  {
   "cell_type": "code",
   "execution_count": 72,
   "id": "f5744741",
   "metadata": {},
   "outputs": [
    {
     "name": "stdout",
     "output_type": "stream",
     "text": [
      "2021-01-03 09:25:31\n"
     ]
    }
   ],
   "source": [
    "print(datetime.datetime.fromtimestamp(receipts_raw[0][\"dateScanned\"][\"$date\"]/1000.0))"
   ]
  },
  {
   "cell_type": "markdown",
   "id": "6242fa29",
   "metadata": {},
   "source": [
    "* pointsEarned is in string format with one decimal place, but bonusPointsEarned is in int format.  This should be considered when choosing data types for database tables\n",
    "* For stakeholder: What is the DEFAULT (code) at the end of bonusPointsEarnedReason?\n",
    "* purchasedItemCount does *not* necessarily match the number of items in rewardsReceiptItemList\n",
    "* The value of \"barcode\" or \"userFlaggedBarcode\" in each item in rewardsReceiptItemList might be able to be used as a foreign key to the Brand schema, but it doesn't appear to match directly\n",
    "* rewardsReceiptItemList is really what we should be looking at here\n",
    "* userID can hopefully be used as a foreign key to the Users data schema\n",
    "* Items might be not found, with barcode 4011\n",
    "* totalSpent is in string format\n",
    "* brandCode is not populated for every receipt line  \n",
    "\n",
    "Outstanding questions for data analyst:\n",
    "* Which keys have missing values?\n",
    "* How can we reliably join to the Brand schema?"
   ]
  },
  {
   "cell_type": "markdown",
   "id": "ca10847a",
   "metadata": {},
   "source": [
    "### Initial exploration of Users Data schema"
   ]
  },
  {
   "cell_type": "code",
   "execution_count": 73,
   "id": "8afece21",
   "metadata": {},
   "outputs": [
    {
     "name": "stdout",
     "output_type": "stream",
     "text": [
      "{\n",
      "  \"_id\": {\n",
      "    \"$oid\": \"5ff1e194b6a9d73a3a9f1052\"\n",
      "  },\n",
      "  \"active\": true,\n",
      "  \"createdDate\": {\n",
      "    \"$date\": 1609687444800\n",
      "  },\n",
      "  \"lastLogin\": {\n",
      "    \"$date\": 1609687537858\n",
      "  },\n",
      "  \"role\": \"consumer\",\n",
      "  \"signUpSource\": \"Email\",\n",
      "  \"state\": \"WI\"\n",
      "}\n",
      "{\n",
      "  \"_id\": {\n",
      "    \"$oid\": \"5ff1e194b6a9d73a3a9f1052\"\n",
      "  },\n",
      "  \"active\": true,\n",
      "  \"createdDate\": {\n",
      "    \"$date\": 1609687444800\n",
      "  },\n",
      "  \"lastLogin\": {\n",
      "    \"$date\": 1609687537858\n",
      "  },\n",
      "  \"role\": \"consumer\",\n",
      "  \"signUpSource\": \"Email\",\n",
      "  \"state\": \"WI\"\n",
      "}\n"
     ]
    }
   ],
   "source": [
    "print(json.dumps(users_raw[0],indent=2))\n",
    "print(json.dumps(users_raw[1],indent=2))"
   ]
  },
  {
   "cell_type": "markdown",
   "id": "841616a8",
   "metadata": {},
   "source": [
    "#### Observations/questions about these example data points:\n",
    "\n",
    "* They are duplicates - we should check other files for the same issue\n",
    "* Dates are also in the milliseconds since 1-1-1970 (probably) format\n",
    "* $oid does exist in receipts.json, so I plan to use it as the link between the two schema \n",
    "* What's the point of the \"role\" value if it is always \"consumer\"?\n",
    "* Nothing else major of note"
   ]
  },
  {
   "cell_type": "markdown",
   "id": "8675d9dc",
   "metadata": {},
   "source": [
    "### Initial exploration of Brand Data schema"
   ]
  },
  {
   "cell_type": "code",
   "execution_count": 74,
   "id": "57198986",
   "metadata": {
    "scrolled": false
   },
   "outputs": [
    {
     "name": "stdout",
     "output_type": "stream",
     "text": [
      "{\n",
      "  \"_id\": {\n",
      "    \"$oid\": \"601ac115be37ce2ead437551\"\n",
      "  },\n",
      "  \"barcode\": \"511111019862\",\n",
      "  \"category\": \"Baking\",\n",
      "  \"categoryCode\": \"BAKING\",\n",
      "  \"cpg\": {\n",
      "    \"$id\": {\n",
      "      \"$oid\": \"601ac114be37ce2ead437550\"\n",
      "    },\n",
      "    \"$ref\": \"Cogs\"\n",
      "  },\n",
      "  \"name\": \"test brand @1612366101024\",\n",
      "  \"topBrand\": false\n",
      "}\n",
      "{\n",
      "  \"_id\": {\n",
      "    \"$oid\": \"5d602d9d6d5f3b23d1bc7907\"\n",
      "  },\n",
      "  \"name\": \"Kevita Sparkling Drinks\",\n",
      "  \"cpg\": {\n",
      "    \"$ref\": \"Cogs\",\n",
      "    \"$id\": {\n",
      "      \"$oid\": \"5332f5fbe4b03c9a25efd0ba\"\n",
      "    }\n",
      "  },\n",
      "  \"category\": \"Beverages\",\n",
      "  \"barcode\": \"511111704935\",\n",
      "  \"brandCode\": \"KEVITA\"\n",
      "}\n"
     ]
    }
   ],
   "source": [
    "print(json.dumps(brands_raw[0],indent=2))\n",
    "print(json.dumps(brands_raw[50],indent=2))"
   ]
  },
  {
   "cell_type": "markdown",
   "id": "89b647b5",
   "metadata": {},
   "source": [
    "#### Observations/questions about these example data points:\n",
    "\n",
    "* The first data point is from a test brand.  Test data points should be removed\n",
    "* The oid within cpg appears to correspond to rewardsProductPartnerID in the rewardsReceiptItemLIst, but it is not unique within brands.json"
   ]
  },
  {
   "cell_type": "markdown",
   "id": "4cf0cb37",
   "metadata": {},
   "source": [
    "Programmatic evaluation of data quality will be in DataQualityIssues.ipynb."
   ]
  }
 ],
 "metadata": {
  "kernelspec": {
   "display_name": "Python 3",
   "language": "python",
   "name": "python3"
  },
  "language_info": {
   "codemirror_mode": {
    "name": "ipython",
    "version": 3
   },
   "file_extension": ".py",
   "mimetype": "text/x-python",
   "name": "python",
   "nbconvert_exporter": "python",
   "pygments_lexer": "ipython3",
   "version": "3.8.10"
  }
 },
 "nbformat": 4,
 "nbformat_minor": 5
}
